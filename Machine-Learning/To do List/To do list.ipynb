{
  "nbformat": 4,
  "nbformat_minor": 0,
  "metadata": {
    "colab": {
      "provenance": []
    },
    "kernelspec": {
      "name": "python3",
      "display_name": "Python 3"
    },
    "language_info": {
      "name": "python"
    },
    "widgets": {
      "application/vnd.jupyter.widget-state+json": {
        "60685caf33544bb5a6dc1f5f4fc79e54": {
          "model_module": "@jupyter-widgets/controls",
          "model_name": "VBoxModel",
          "model_module_version": "1.5.0",
          "state": {
            "_dom_classes": [
              "widget-interact"
            ],
            "_model_module": "@jupyter-widgets/controls",
            "_model_module_version": "1.5.0",
            "_model_name": "VBoxModel",
            "_view_count": null,
            "_view_module": "@jupyter-widgets/controls",
            "_view_module_version": "1.5.0",
            "_view_name": "VBoxView",
            "box_style": "",
            "children": [
              "IPY_MODEL_206eac25db664a3c90c3c46126c3173a",
              "IPY_MODEL_38cfd81e0e7a4c658ef3797505d2ee33",
              "IPY_MODEL_b6d8aaabd59d491b8c3f63668283f383"
            ],
            "layout": "IPY_MODEL_2c53189ef4eb42bdbeff64fc31200188"
          }
        },
        "206eac25db664a3c90c3c46126c3173a": {
          "model_module": "@jupyter-widgets/controls",
          "model_name": "DropdownModel",
          "model_module_version": "1.5.0",
          "state": {
            "_dom_classes": [],
            "_model_module": "@jupyter-widgets/controls",
            "_model_module_version": "1.5.0",
            "_model_name": "DropdownModel",
            "_options_labels": [
              "Student",
              "Worker"
            ],
            "_view_count": null,
            "_view_module": "@jupyter-widgets/controls",
            "_view_module_version": "1.5.0",
            "_view_name": "DropdownView",
            "description": "Profession:",
            "description_tooltip": null,
            "disabled": false,
            "index": 0,
            "layout": "IPY_MODEL_b17fa81ab7e6461c801123a6db40b538",
            "style": "IPY_MODEL_081074ec90e04b56a4198be2af9d1ecf"
          }
        },
        "38cfd81e0e7a4c658ef3797505d2ee33": {
          "model_module": "@jupyter-widgets/controls",
          "model_name": "DropdownModel",
          "model_module_version": "1.5.0",
          "state": {
            "_dom_classes": [],
            "_model_module": "@jupyter-widgets/controls",
            "_model_module_version": "1.5.0",
            "_model_name": "DropdownModel",
            "_options_labels": [
              "Sports",
              "Study",
              "Entertainment"
            ],
            "_view_count": null,
            "_view_module": "@jupyter-widgets/controls",
            "_view_module_version": "1.5.0",
            "_view_name": "DropdownView",
            "description": "Hobby:",
            "description_tooltip": null,
            "disabled": false,
            "index": 0,
            "layout": "IPY_MODEL_4dbd5d7c785b428e9d68f8c0d5cd5718",
            "style": "IPY_MODEL_bf126f21e6f146e1b606536e2d852ab7"
          }
        },
        "b6d8aaabd59d491b8c3f63668283f383": {
          "model_module": "@jupyter-widgets/output",
          "model_name": "OutputModel",
          "model_module_version": "1.0.0",
          "state": {
            "_dom_classes": [],
            "_model_module": "@jupyter-widgets/output",
            "_model_module_version": "1.0.0",
            "_model_name": "OutputModel",
            "_view_count": null,
            "_view_module": "@jupyter-widgets/output",
            "_view_module_version": "1.0.0",
            "_view_name": "OutputView",
            "layout": "IPY_MODEL_6c44e109cc5e4f2296e3fb3c90f26e75",
            "msg_id": "",
            "outputs": [
              {
                "output_type": "stream",
                "name": "stdout",
                "text": [
                  "Recommended Activities:\n",
                  "- Playing soccer\n",
                  "- Playing basketball\n",
                  "- Cycling\n",
                  "- Morning jogging\n",
                  "- Swimming\n"
                ]
              }
            ]
          }
        },
        "2c53189ef4eb42bdbeff64fc31200188": {
          "model_module": "@jupyter-widgets/base",
          "model_name": "LayoutModel",
          "model_module_version": "1.2.0",
          "state": {
            "_model_module": "@jupyter-widgets/base",
            "_model_module_version": "1.2.0",
            "_model_name": "LayoutModel",
            "_view_count": null,
            "_view_module": "@jupyter-widgets/base",
            "_view_module_version": "1.2.0",
            "_view_name": "LayoutView",
            "align_content": null,
            "align_items": null,
            "align_self": null,
            "border": null,
            "bottom": null,
            "display": null,
            "flex": null,
            "flex_flow": null,
            "grid_area": null,
            "grid_auto_columns": null,
            "grid_auto_flow": null,
            "grid_auto_rows": null,
            "grid_column": null,
            "grid_gap": null,
            "grid_row": null,
            "grid_template_areas": null,
            "grid_template_columns": null,
            "grid_template_rows": null,
            "height": null,
            "justify_content": null,
            "justify_items": null,
            "left": null,
            "margin": null,
            "max_height": null,
            "max_width": null,
            "min_height": null,
            "min_width": null,
            "object_fit": null,
            "object_position": null,
            "order": null,
            "overflow": null,
            "overflow_x": null,
            "overflow_y": null,
            "padding": null,
            "right": null,
            "top": null,
            "visibility": null,
            "width": null
          }
        },
        "b17fa81ab7e6461c801123a6db40b538": {
          "model_module": "@jupyter-widgets/base",
          "model_name": "LayoutModel",
          "model_module_version": "1.2.0",
          "state": {
            "_model_module": "@jupyter-widgets/base",
            "_model_module_version": "1.2.0",
            "_model_name": "LayoutModel",
            "_view_count": null,
            "_view_module": "@jupyter-widgets/base",
            "_view_module_version": "1.2.0",
            "_view_name": "LayoutView",
            "align_content": null,
            "align_items": null,
            "align_self": null,
            "border": null,
            "bottom": null,
            "display": null,
            "flex": null,
            "flex_flow": null,
            "grid_area": null,
            "grid_auto_columns": null,
            "grid_auto_flow": null,
            "grid_auto_rows": null,
            "grid_column": null,
            "grid_gap": null,
            "grid_row": null,
            "grid_template_areas": null,
            "grid_template_columns": null,
            "grid_template_rows": null,
            "height": null,
            "justify_content": null,
            "justify_items": null,
            "left": null,
            "margin": null,
            "max_height": null,
            "max_width": null,
            "min_height": null,
            "min_width": null,
            "object_fit": null,
            "object_position": null,
            "order": null,
            "overflow": null,
            "overflow_x": null,
            "overflow_y": null,
            "padding": null,
            "right": null,
            "top": null,
            "visibility": null,
            "width": null
          }
        },
        "081074ec90e04b56a4198be2af9d1ecf": {
          "model_module": "@jupyter-widgets/controls",
          "model_name": "DescriptionStyleModel",
          "model_module_version": "1.5.0",
          "state": {
            "_model_module": "@jupyter-widgets/controls",
            "_model_module_version": "1.5.0",
            "_model_name": "DescriptionStyleModel",
            "_view_count": null,
            "_view_module": "@jupyter-widgets/base",
            "_view_module_version": "1.2.0",
            "_view_name": "StyleView",
            "description_width": ""
          }
        },
        "4dbd5d7c785b428e9d68f8c0d5cd5718": {
          "model_module": "@jupyter-widgets/base",
          "model_name": "LayoutModel",
          "model_module_version": "1.2.0",
          "state": {
            "_model_module": "@jupyter-widgets/base",
            "_model_module_version": "1.2.0",
            "_model_name": "LayoutModel",
            "_view_count": null,
            "_view_module": "@jupyter-widgets/base",
            "_view_module_version": "1.2.0",
            "_view_name": "LayoutView",
            "align_content": null,
            "align_items": null,
            "align_self": null,
            "border": null,
            "bottom": null,
            "display": null,
            "flex": null,
            "flex_flow": null,
            "grid_area": null,
            "grid_auto_columns": null,
            "grid_auto_flow": null,
            "grid_auto_rows": null,
            "grid_column": null,
            "grid_gap": null,
            "grid_row": null,
            "grid_template_areas": null,
            "grid_template_columns": null,
            "grid_template_rows": null,
            "height": null,
            "justify_content": null,
            "justify_items": null,
            "left": null,
            "margin": null,
            "max_height": null,
            "max_width": null,
            "min_height": null,
            "min_width": null,
            "object_fit": null,
            "object_position": null,
            "order": null,
            "overflow": null,
            "overflow_x": null,
            "overflow_y": null,
            "padding": null,
            "right": null,
            "top": null,
            "visibility": null,
            "width": null
          }
        },
        "bf126f21e6f146e1b606536e2d852ab7": {
          "model_module": "@jupyter-widgets/controls",
          "model_name": "DescriptionStyleModel",
          "model_module_version": "1.5.0",
          "state": {
            "_model_module": "@jupyter-widgets/controls",
            "_model_module_version": "1.5.0",
            "_model_name": "DescriptionStyleModel",
            "_view_count": null,
            "_view_module": "@jupyter-widgets/base",
            "_view_module_version": "1.2.0",
            "_view_name": "StyleView",
            "description_width": ""
          }
        },
        "6c44e109cc5e4f2296e3fb3c90f26e75": {
          "model_module": "@jupyter-widgets/base",
          "model_name": "LayoutModel",
          "model_module_version": "1.2.0",
          "state": {
            "_model_module": "@jupyter-widgets/base",
            "_model_module_version": "1.2.0",
            "_model_name": "LayoutModel",
            "_view_count": null,
            "_view_module": "@jupyter-widgets/base",
            "_view_module_version": "1.2.0",
            "_view_name": "LayoutView",
            "align_content": null,
            "align_items": null,
            "align_self": null,
            "border": null,
            "bottom": null,
            "display": null,
            "flex": null,
            "flex_flow": null,
            "grid_area": null,
            "grid_auto_columns": null,
            "grid_auto_flow": null,
            "grid_auto_rows": null,
            "grid_column": null,
            "grid_gap": null,
            "grid_row": null,
            "grid_template_areas": null,
            "grid_template_columns": null,
            "grid_template_rows": null,
            "height": null,
            "justify_content": null,
            "justify_items": null,
            "left": null,
            "margin": null,
            "max_height": null,
            "max_width": null,
            "min_height": null,
            "min_width": null,
            "object_fit": null,
            "object_position": null,
            "order": null,
            "overflow": null,
            "overflow_x": null,
            "overflow_y": null,
            "padding": null,
            "right": null,
            "top": null,
            "visibility": null,
            "width": null
          }
        }
      }
    }
  },
  "cells": [
    {
      "cell_type": "code",
      "execution_count": 2,
      "metadata": {
        "colab": {
          "base_uri": "https://localhost:8080/"
        },
        "id": "nJ2pVLVvWRL-",
        "outputId": "f78ab9fe-d258-4d40-c490-fdc1812368d0"
      },
      "outputs": [
        {
          "output_type": "stream",
          "name": "stdout",
          "text": [
            "Epoch 1/10\n",
            "\u001b[1m2/2\u001b[0m \u001b[32m━━━━━━━━━━━━━━━━━━━━\u001b[0m\u001b[37m\u001b[0m \u001b[1m2s\u001b[0m 30ms/step - accuracy: 0.4931 - loss: 0.6931\n",
            "Epoch 2/10\n",
            "\u001b[1m2/2\u001b[0m \u001b[32m━━━━━━━━━━━━━━━━━━━━\u001b[0m\u001b[37m\u001b[0m \u001b[1m0s\u001b[0m 19ms/step - accuracy: 1.0000 - loss: 0.6920\n",
            "Epoch 3/10\n",
            "\u001b[1m2/2\u001b[0m \u001b[32m━━━━━━━━━━━━━━━━━━━━\u001b[0m\u001b[37m\u001b[0m \u001b[1m0s\u001b[0m 12ms/step - accuracy: 1.0000 - loss: 0.6910\n",
            "\u001b[1m1/1\u001b[0m \u001b[32m━━━━━━━━━━━━━━━━━━━━\u001b[0m\u001b[37m\u001b[0m \u001b[1m0s\u001b[0m 147ms/step\n",
            "Mean Squared Error: 0.2489383965730667\n"
          ]
        }
      ],
      "source": [
        "import pandas as pd\n",
        "import tensorflow as tf\n",
        "import ipywidgets as widgets\n",
        "from tensorflow.keras import layers, models\n",
        "from sklearn.model_selection import train_test_split\n",
        "from sklearn.metrics import mean_squared_error\n",
        "from tensorflow.keras.callbacks import EarlyStopping\n",
        "from IPython.display import display\n",
        "from ipywidgets import interact\n",
        "\n",
        "df = pd.read_csv('updated_activities_dataset.csv')\n",
        "\n",
        "Profesi = {user: idx for idx, user in enumerate(df['Profession'].unique())}\n",
        "df['user_Profession'] = df['Profession'].map(Profesi)\n",
        "\n",
        "Activity = {item: idx for idx, item in enumerate(df['Activity Description'].unique())}\n",
        "df['user_Activity'] = df['Activity Description'].map(Activity)\n",
        "\n",
        "interactions = df[['user_Profession', 'user_Activity']].values\n",
        "\n",
        "num_profession = len(Profesi)\n",
        "num_Activity = len(Activity)\n",
        "\n",
        "Profession_input = layers.Input(shape=(1,), name='Profession')\n",
        "Activity_input = layers.Input(shape=(1,), name='Activity')\n",
        "\n",
        "Profession_embedding = layers.Embedding(\n",
        "    input_dim=num_profession,\n",
        "    output_dim=10,\n",
        "    embeddings_initializer='uniform',\n",
        ")(Profession_input)\n",
        "\n",
        "Activity_embedding = layers.Embedding(\n",
        "    input_dim=num_Activity,\n",
        "    output_dim=10,\n",
        "    embeddings_initializer='uniform',\n",
        ")(Activity_input)\n",
        "\n",
        "dot_product = layers.Dot(axes=2)([Profession_embedding, Activity_embedding])\n",
        "\n",
        "flattened = layers.Flatten()(dot_product)\n",
        "\n",
        "output = layers.Dense(1, activation='sigmoid')(flattened)\n",
        "\n",
        "model = models.Model(inputs=[Profession_input, Activity_input], outputs=output)\n",
        "\n",
        "model.compile(optimizer='adam',\n",
        "              loss='binary_crossentropy',\n",
        "              metrics=['accuracy'])\n",
        "\n",
        "X_train, X_test = train_test_split(interactions, test_size=0.2, random_state=42)\n",
        "\n",
        "train_user = X_train[:, 0]\n",
        "test_user = X_test[:, 0]\n",
        "train_item = X_train[:, 1]\n",
        "test_item = X_test[:, 1]\n",
        "\n",
        "early_stopping = EarlyStopping(monitor='accuracy',\n",
        "                               patience=1,\n",
        "                               mode='max',\n",
        "                               baseline=0.90,\n",
        "                               restore_best_weights=True)\n",
        "\n",
        "model.fit([train_user, train_item], tf.ones(len(train_user)), epochs=10, batch_size=32, callbacks=[early_stopping])\n",
        "\n",
        "predictions = model.predict([test_user, test_item])\n",
        "\n",
        "mse = mean_squared_error(tf.ones(len(predictions)), predictions)\n",
        "print(f'Mean Squared Error: {mse}')\n"
      ]
    },
    {
      "cell_type": "code",
      "source": [
        "# Fungsi untuk menampilkan rekomendasi berdasarkan profesi dan hobi\n",
        "def show_recommendation(Profession, Hobby):\n",
        "    # Filter data berdasarkan profesi dan hobi\n",
        "    filtered_df = df[(df['Profession'] == Profession) & (df['Hobby'] == Hobby)]\n",
        "\n",
        "    # Tampilkan rekomendasi kegiatan yang cocok\n",
        "    recommendations = filtered_df[['Activity Description']].head(5)  # Ambil 5 rekomendasi pertama\n",
        "    print(\"Recommended Activities:\")\n",
        "    for index, row in recommendations.iterrows():\n",
        "        print(f\"- {row['Activity Description']}\")\n",
        "\n",
        "# Membuat dropdown untuk profesi dan hobi\n",
        "Profession_dropdown = widgets.Dropdown(\n",
        "    options=df['Profession'].unique(),\n",
        "    description='Profession:',\n",
        "    disabled=False\n",
        ")\n",
        "\n",
        "Hobby_dropdown = widgets.Dropdown(\n",
        "    options=df['Hobby'].unique(),\n",
        "    description='Hobby:',\n",
        "    disabled=False\n",
        ")\n",
        "\n",
        "# Menghubungkan dropdown dengan fungsi show_recommendation\n",
        "interact(show_recommendation, Profession=Profession_dropdown, Hobby=Hobby_dropdown)\n"
      ],
      "metadata": {
        "colab": {
          "base_uri": "https://localhost:8080/",
          "height": 272,
          "referenced_widgets": [
            "60685caf33544bb5a6dc1f5f4fc79e54",
            "206eac25db664a3c90c3c46126c3173a",
            "38cfd81e0e7a4c658ef3797505d2ee33",
            "b6d8aaabd59d491b8c3f63668283f383",
            "2c53189ef4eb42bdbeff64fc31200188",
            "b17fa81ab7e6461c801123a6db40b538",
            "081074ec90e04b56a4198be2af9d1ecf",
            "4dbd5d7c785b428e9d68f8c0d5cd5718",
            "bf126f21e6f146e1b606536e2d852ab7",
            "6c44e109cc5e4f2296e3fb3c90f26e75"
          ]
        },
        "id": "hKRTKDEOCjdD",
        "outputId": "24a0cdd4-5866-4c9e-e992-41fd1535057e"
      },
      "execution_count": 6,
      "outputs": [
        {
          "output_type": "display_data",
          "data": {
            "text/plain": [
              "interactive(children=(Dropdown(description='Profession:', options=('Student', 'Worker'), value='Student'), Dro…"
            ],
            "application/vnd.jupyter.widget-view+json": {
              "version_major": 2,
              "version_minor": 0,
              "model_id": "60685caf33544bb5a6dc1f5f4fc79e54"
            }
          },
          "metadata": {}
        },
        {
          "output_type": "execute_result",
          "data": {
            "text/plain": [
              "<function __main__.show_recommendation(Profession, Hobby)>"
            ],
            "text/html": [
              "<div style=\"max-width:800px; border: 1px solid var(--colab-border-color);\"><style>\n",
              "      pre.function-repr-contents {\n",
              "        overflow-x: auto;\n",
              "        padding: 8px 12px;\n",
              "        max-height: 500px;\n",
              "      }\n",
              "\n",
              "      pre.function-repr-contents.function-repr-contents-collapsed {\n",
              "        cursor: pointer;\n",
              "        max-height: 100px;\n",
              "      }\n",
              "    </style>\n",
              "    <pre style=\"white-space: initial; background:\n",
              "         var(--colab-secondary-surface-color); padding: 8px 12px;\n",
              "         border-bottom: 1px solid var(--colab-border-color);\"><b>show_recommendation</b><br/>def show_recommendation(Profession, Hobby)</pre><pre class=\"function-repr-contents function-repr-contents-collapsed\" style=\"\"><a class=\"filepath\" style=\"display:none\" href=\"#\">/content/&lt;ipython-input-6-fcafc65ae8df&gt;</a>&lt;no docstring&gt;</pre></div>"
            ]
          },
          "metadata": {},
          "execution_count": 6
        }
      ]
    }
  ]
}